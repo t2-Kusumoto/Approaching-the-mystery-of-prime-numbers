{
 "cells": [
  {
   "cell_type": "markdown",
   "metadata": {},
   "source": [
    "# What happens to the placement of prime numbers in unfounded expressions?\n",
    "\n",
    "## No.2  \n",
    "\n",
    "ここでは、**三角関数**、**円周率$\\pi$**、**ネイピア数$e$**、**虚数**をテキトーに組み合わせて遊びます。  \n",
    "\n",
    "虚数をどう使うか？ですが･･･私のアタマで真剣に考えたトコで大したアイデアは出てこないので、ベタに「回転」に使うことにします。"
   ]
  },
  {
   "cell_type": "markdown",
   "metadata": {},
   "source": [
    "## 素数生成用関数  \n",
    "\n",
    "No.1ファイルと同じものです"
   ]
  },
  {
   "cell_type": "code",
   "execution_count": null,
   "metadata": {},
   "outputs": [],
   "source": [
    "import numpy as np\n",
    "\n",
    "def choice_prime_num(arr):\n",
    "    \"\"\" エラトステネスのふるい \"\"\"\n",
    "    if isinstance(arr, np.ndarray):\n",
    "        arr = arr.tolist()\n",
    "    if 0 in arr:\n",
    "        arr.remove(0)\n",
    "    if 1 in arr:\n",
    "        arr.remove(1)\n",
    "    prime = []\n",
    "    _min = min(arr)\n",
    "    _max = max(arr)\n",
    "    while _min <= np.sqrt(_max):\n",
    "        _min = min(arr)\n",
    "        prime.append(_min)\n",
    "        for i in arr:\n",
    "            if i != _min and i % _min == 0:\n",
    "                arr.remove(i)\n",
    "        arr.remove(_min)\n",
    "    prime.extend(arr)\n",
    "\n",
    "    return prime"
   ]
  }
 ],
 "metadata": {
  "kernelspec": {
   "display_name": "Python 3",
   "language": "python",
   "name": "python3"
  },
  "language_info": {
   "codemirror_mode": {
    "name": "ipython",
    "version": 3
   },
   "file_extension": ".py",
   "mimetype": "text/x-python",
   "name": "python",
   "nbconvert_exporter": "python",
   "pygments_lexer": "ipython3",
   "version": "3.7.7"
  }
 },
 "nbformat": 4,
 "nbformat_minor": 4
}
