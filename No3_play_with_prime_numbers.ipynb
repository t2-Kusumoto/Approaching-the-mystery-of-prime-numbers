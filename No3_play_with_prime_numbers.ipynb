{
 "cells": [
  {
   "cell_type": "markdown",
   "metadata": {},
   "source": [
    "# What happens to the placement of prime numbers in unfounded expressions?\n",
    "\n",
    "## No.3 三次元空間にプロットしてみる その２\n",
    "\n",
    "\n",
    "# ※製作中\n"
   ]
  },
  {
   "cell_type": "markdown",
   "metadata": {},
   "source": [
    "## 素数生成用関数  \n",
    "\n",
    "No.1ファイルと同じものです"
   ]
  },
  {
   "cell_type": "code",
   "execution_count": null,
   "metadata": {},
   "outputs": [],
   "source": [
    "import numpy as np\n",
    "\n",
    "def choice_prime_num(arr):\n",
    "    \"\"\" エラトステネスのふるい \"\"\"\n",
    "    if isinstance(arr, np.ndarray):\n",
    "        arr = arr.tolist()\n",
    "    if 0 in arr:\n",
    "        arr.remove(0)\n",
    "    if 1 in arr:\n",
    "        arr.remove(1)\n",
    "    prime = []\n",
    "    _min = min(arr)\n",
    "    _max = max(arr)\n",
    "    while _min <= np.sqrt(_max):\n",
    "        _min = min(arr)\n",
    "        prime.append(_min)\n",
    "        for i in arr:\n",
    "            if i != _min and i % _min == 0:\n",
    "                arr.remove(i)\n",
    "        arr.remove(_min)\n",
    "    prime.extend(arr)\n",
    "\n",
    "    return prime"
   ]
  },
  {
   "cell_type": "code",
   "execution_count": null,
   "metadata": {},
   "outputs": [],
   "source": [
    "%matplotlib notebook\n",
    "import numpy as np\n",
    "import matplotlib.pyplot as plt\n",
    "from mpl_toolkits.mplot3d import Axes3D\n",
    "\n",
    "arr1 = np.array([\n",
    "    [1, 0, 0],\n",
    "    [0, 1, 0],\n",
    "    [-1, 0, 0],\n",
    "    [0, -1, 0]\n",
    "])\n",
    "\n",
    "arr2 = np.array([0, 1, 1])\n",
    "\n",
    "def test(arr):\n",
    "    grad = np.sqrt(arr[0]**2 + arr[1]**2)\n",
    "    arr_x = np.array([grad, arr2[1], arr2[2]])\n",
    "    rad = np.arccos(arr[0]/grad) if arr[0] != 0 else np.arcsin(arr[1]/grad)\n",
    "    matrix = np.array([\n",
    "        [np.cos(rad), np.sin(rad), 0],\n",
    "        [-np.sin(rad), np.cos(rad), 0],\n",
    "        [0, 0, 1]\n",
    "    ])\n",
    "\n",
    "    arr4 =  matrix.dot(arr_x)\n",
    "    return arr4\n",
    "\n",
    "arr_5 = [[0,0,0], [1,0,0],[0,1,0],[-1,0,0],[0,-1,0]]\n",
    "for a in arr1:\n",
    "    arr_5.append(test(a))\n",
    "\n",
    "\n",
    "arr3 = np.array(arr_5).T\n",
    "fig = plt.figure()\n",
    "ax = Axes3D(fig)\n",
    "ax.scatter(arr3[0], arr3[1], arr3[2])\n"
   ]
  }
 ],
 "metadata": {
  "kernelspec": {
   "display_name": "Python 3",
   "language": "python",
   "name": "python3"
  },
  "language_info": {
   "codemirror_mode": {
    "name": "ipython",
    "version": 3
   },
   "file_extension": ".py",
   "mimetype": "text/x-python",
   "name": "python",
   "nbconvert_exporter": "python",
   "pygments_lexer": "ipython3",
   "version": "3.7.7"
  }
 },
 "nbformat": 4,
 "nbformat_minor": 4
}
